{
 "metadata": {
  "name": "",
  "signature": "sha256:b76223e25aeb59db0583393e33d7064ff610c127c0b2ebcf3b2c7b3516d43656"
 },
 "nbformat": 3,
 "nbformat_minor": 0,
 "worksheets": [
  {
   "cells": [
    {
     "cell_type": "code",
     "collapsed": false,
     "input": [
      "import pandas as pd\n",
      "import numpy as np\n",
      "import matplotlib.pyplot as plt\n",
      "import seaborn as sb\n",
      "#plt.rc('figure', figsize=(25, 15))\n",
      "%matplotlib inline"
     ],
     "language": "python",
     "metadata": {},
     "outputs": [],
     "prompt_number": 225
    },
    {
     "cell_type": "code",
     "collapsed": false,
     "input": [
      "dummy = pd.read_csv(\"dummy.data\")\n",
      "dummy = dummy.set_index(\"id\")"
     ],
     "language": "python",
     "metadata": {},
     "outputs": [],
     "prompt_number": 226
    },
    {
     "cell_type": "code",
     "collapsed": false,
     "input": [
      "from numpy import radians, cos, sin, arcsin, sqrt\n",
      "\n",
      "def haversine(lon1, lat1, lon2, lat2):\n",
      "    \"\"\"\n",
      "    Calculate the great circle distance between two points \n",
      "    on the earth (specified in decimal degrees)\n",
      "    From: \n",
      "    stackoverflow.com/questions/4913349/haversine-formula-in-python-bearing-and-distance-between-two-gps-points\n",
      "    \"\"\"\n",
      "    # convert decimal degrees to radians \n",
      "    lon1, lat1, lon2, lat2 = map(radians, [lon1, lat1, lon2, lat2])\n",
      "\n",
      "    # haversine formula \n",
      "    dlon = lon2 - lon1 \n",
      "    dlat = lat2 - lat1 \n",
      "    a = sin(dlat/2)**2 + cos(lat1) * cos(lat2) * sin(dlon/2)**2\n",
      "    c = 2 * arcsin(sqrt(a)) \n",
      "    r = 3956 # Radius of earth in miles. Use 6371 for kilometers\n",
      "    return c * r"
     ],
     "language": "python",
     "metadata": {},
     "outputs": [],
     "prompt_number": 227
    },
    {
     "cell_type": "code",
     "collapsed": false,
     "input": [
      "dummy['distance'] = haversine(dummy['start_long'],dummy['start_lat'],dummy['dest_long'],dummy['dest_lat'])"
     ],
     "language": "python",
     "metadata": {},
     "outputs": [],
     "prompt_number": 228
    },
    {
     "cell_type": "code",
     "collapsed": false,
     "input": [
      "# import math\n",
      "# dummy['distance'] = 3956 * 2 * np.arcsin(np.sqrt(np.sin(np.radians(dummy['start_lat']) - np.radians(dummy[\"dest_lat\"])/2)**2 + np.cos(np.radians(dummy[\"dest_lat\"])) * np.cos(np.radians(dummy['start_lat']) * np.sin(np.radians(dummy['start_long']) - np.radians(dummy[\"dest_long\"])/2)**2)))"
     ],
     "language": "python",
     "metadata": {},
     "outputs": [],
     "prompt_number": 229
    },
    {
     "cell_type": "heading",
     "level": 4,
     "metadata": {},
     "source": [
      "All locations mapped into a scatter plot"
     ]
    },
    {
     "cell_type": "code",
     "collapsed": false,
     "input": [
      "locations = pd.concat([dummy[['start_lat','start_long']],dummy[['dest_lat','dest_long']]])"
     ],
     "language": "python",
     "metadata": {},
     "outputs": [],
     "prompt_number": 317
    },
    {
     "cell_type": "code",
     "collapsed": false,
     "input": [
      "lats = pd.DataFrame(dummy.ix[:,1].append(dummy.ix[:,4])).reset_index().drop('id',1)"
     ],
     "language": "python",
     "metadata": {},
     "outputs": [],
     "prompt_number": 318
    },
    {
     "cell_type": "code",
     "collapsed": false,
     "input": [
      "longs = pd.DataFrame(dummy.ix[:,2].append(dummy.ix[:,5])).reset_index().drop('id',1)"
     ],
     "language": "python",
     "metadata": {},
     "outputs": [],
     "prompt_number": 319
    },
    {
     "cell_type": "code",
     "collapsed": false,
     "input": [
      "plt.scatter(lats,longs)"
     ],
     "language": "python",
     "metadata": {},
     "outputs": [
      {
       "metadata": {},
       "output_type": "pyout",
       "prompt_number": 320,
       "text": [
        "<matplotlib.collections.PathCollection at 0x11273a940>"
       ]
      },
      {
       "metadata": {},
       "output_type": "display_data",
       "png": "[encoded data removed]",
       "text": [
        "<matplotlib.figure.Figure at 0x1126f8e80>"
       ]
      }
     ],
     "prompt_number": 320
    },
    {
     "cell_type": "heading",
     "level": 4,
     "metadata": {},
     "source": [
      "Clustering"
     ]
    },
    {
     "cell_type": "code",
     "collapsed": false,
     "input": [
      "from sklearn.cluster import KMeans"
     ],
     "language": "python",
     "metadata": {},
     "outputs": [],
     "prompt_number": 321
    },
    {
     "cell_type": "code",
     "collapsed": false,
     "input": [
      "features = dummy[['start_lat','start_long','dest_lat','dest_long']].reset_index().drop('id',1)\n",
      "features.head()"
     ],
     "language": "python",
     "metadata": {},
     "outputs": [
      {
       "html": [
        "<div style=\"max-height:1000px;max-width:1500px;overflow:auto;\">\n",
        "<table border=\"1\" class=\"dataframe\">\n",
        "  <thead>\n",
        "    <tr style=\"text-align: right;\">\n",
        "      <th></th>\n",
        "      <th>start_lat</th>\n",
        "      <th>start_long</th>\n",
        "      <th>dest_lat</th>\n",
        "      <th>dest_long</th>\n",
        "    </tr>\n",
        "  </thead>\n",
        "  <tbody>\n",
        "    <tr>\n",
        "      <th>0</th>\n",
        "      <td> 35.788247</td>\n",
        "      <td>-78.629310</td>\n",
        "      <td> 35.993301</td>\n",
        "      <td>-78.904659</td>\n",
        "    </tr>\n",
        "    <tr>\n",
        "      <th>1</th>\n",
        "      <td> 35.789972</td>\n",
        "      <td>-78.640784</td>\n",
        "      <td> 36.014119</td>\n",
        "      <td>-78.921644</td>\n",
        "    </tr>\n",
        "    <tr>\n",
        "      <th>2</th>\n",
        "      <td> 35.760419</td>\n",
        "      <td>-78.652847</td>\n",
        "      <td> 35.906823</td>\n",
        "      <td>-78.941451</td>\n",
        "    </tr>\n",
        "    <tr>\n",
        "      <th>3</th>\n",
        "      <td> 35.777670</td>\n",
        "      <td>-78.637916</td>\n",
        "      <td> 35.906780</td>\n",
        "      <td>-78.889374</td>\n",
        "    </tr>\n",
        "    <tr>\n",
        "      <th>4</th>\n",
        "      <td> 35.789172</td>\n",
        "      <td>-78.621798</td>\n",
        "      <td> 35.991802</td>\n",
        "      <td>-78.904032</td>\n",
        "    </tr>\n",
        "  </tbody>\n",
        "</table>\n",
        "</div>"
       ],
       "metadata": {},
       "output_type": "pyout",
       "prompt_number": 322,
       "text": [
        "   start_lat  start_long   dest_lat  dest_long\n",
        "0  35.788247  -78.629310  35.993301 -78.904659\n",
        "1  35.789972  -78.640784  36.014119 -78.921644\n",
        "2  35.760419  -78.652847  35.906823 -78.941451\n",
        "3  35.777670  -78.637916  35.906780 -78.889374\n",
        "4  35.789172  -78.621798  35.991802 -78.904032"
       ]
      }
     ],
     "prompt_number": 322
    },
    {
     "cell_type": "code",
     "collapsed": false,
     "input": [
      "kmeans = KMeans(4)"
     ],
     "language": "python",
     "metadata": {},
     "outputs": [],
     "prompt_number": 323
    },
    {
     "cell_type": "code",
     "collapsed": false,
     "input": [
      "kmeans.fit(features)"
     ],
     "language": "python",
     "metadata": {},
     "outputs": [
      {
       "metadata": {},
       "output_type": "pyout",
       "prompt_number": 324,
       "text": [
        "KMeans(copy_x=True, init='k-means++', max_iter=300, n_clusters=4, n_init=10,\n",
        "    n_jobs=1, precompute_distances=True, random_state=None, tol=0.0001,\n",
        "    verbose=0)"
       ]
      }
     ],
     "prompt_number": 324
    },
    {
     "cell_type": "heading",
     "level": 4,
     "metadata": {},
     "source": [
      "Add assigned cluster (carpool) as a column"
     ]
    },
    {
     "cell_type": "code",
     "collapsed": false,
     "input": [
      "dummy['ride'] = kmeans.labels_"
     ],
     "language": "python",
     "metadata": {},
     "outputs": [],
     "prompt_number": 325
    },
    {
     "cell_type": "code",
     "collapsed": false,
     "input": [
      "dummy"
     ],
     "language": "python",
     "metadata": {},
     "outputs": [
      {
       "html": [
        "<div style=\"max-height:1000px;max-width:1500px;overflow:auto;\">\n",
        "<table border=\"1\" class=\"dataframe\">\n",
        "  <thead>\n",
        "    <tr style=\"text-align: right;\">\n",
        "      <th></th>\n",
        "      <th>start</th>\n",
        "      <th>start_lat</th>\n",
        "      <th>start_long</th>\n",
        "      <th>dest</th>\n",
        "      <th>dest_lat</th>\n",
        "      <th>dest_long</th>\n",
        "      <th>dest_time</th>\n",
        "      <th>distance</th>\n",
        "      <th>ride</th>\n",
        "    </tr>\n",
        "    <tr>\n",
        "      <th>id</th>\n",
        "      <th></th>\n",
        "      <th></th>\n",
        "      <th></th>\n",
        "      <th></th>\n",
        "      <th></th>\n",
        "      <th></th>\n",
        "      <th></th>\n",
        "      <th></th>\n",
        "      <th></th>\n",
        "    </tr>\n",
        "  </thead>\n",
        "  <tbody>\n",
        "    <tr>\n",
        "      <th>0 </th>\n",
        "      <td>                   home</td>\n",
        "      <td> 35.788247</td>\n",
        "      <td>-78.629310</td>\n",
        "      <td>             iron yard</td>\n",
        "      <td> 35.993301</td>\n",
        "      <td>-78.904659</td>\n",
        "      <td> 9:00</td>\n",
        "      <td> 20.920506</td>\n",
        "      <td> 3</td>\n",
        "    </tr>\n",
        "    <tr>\n",
        "      <th>1 </th>\n",
        "      <td>               seaboard</td>\n",
        "      <td> 35.789972</td>\n",
        "      <td>-78.640784</td>\n",
        "      <td>                monuts</td>\n",
        "      <td> 36.014119</td>\n",
        "      <td>-78.921644</td>\n",
        "      <td> 9:00</td>\n",
        "      <td> 22.051171</td>\n",
        "      <td> 3</td>\n",
        "    </tr>\n",
        "    <tr>\n",
        "      <th>2 </th>\n",
        "      <td>              caraleigh</td>\n",
        "      <td> 35.760419</td>\n",
        "      <td>-78.652847</td>\n",
        "      <td>           south point</td>\n",
        "      <td> 35.906823</td>\n",
        "      <td>-78.941451</td>\n",
        "      <td> 9:00</td>\n",
        "      <td> 19.056898</td>\n",
        "      <td> 2</td>\n",
        "    </tr>\n",
        "    <tr>\n",
        "      <th>3 </th>\n",
        "      <td>                  joule</td>\n",
        "      <td> 35.777670</td>\n",
        "      <td>-78.637916</td>\n",
        "      <td>       counter culture</td>\n",
        "      <td> 35.906780</td>\n",
        "      <td>-78.889374</td>\n",
        "      <td> 9:00</td>\n",
        "      <td> 16.659810</td>\n",
        "      <td> 2</td>\n",
        "    </tr>\n",
        "    <tr>\n",
        "      <th>4 </th>\n",
        "      <td>                oakwood</td>\n",
        "      <td> 35.789172</td>\n",
        "      <td>-78.621798</td>\n",
        "      <td>          durham bulls</td>\n",
        "      <td> 35.991802</td>\n",
        "      <td>-78.904032</td>\n",
        "      <td> 9:00</td>\n",
        "      <td> 21.094305</td>\n",
        "      <td> 3</td>\n",
        "    </tr>\n",
        "    <tr>\n",
        "      <th>5 </th>\n",
        "      <td> raleigh farmers market</td>\n",
        "      <td> 35.763127</td>\n",
        "      <td>-78.664087</td>\n",
        "      <td> durham farmers market</td>\n",
        "      <td> 36.000573</td>\n",
        "      <td>-78.901976</td>\n",
        "      <td> 9:00</td>\n",
        "      <td> 21.115963</td>\n",
        "      <td> 3</td>\n",
        "    </tr>\n",
        "    <tr>\n",
        "      <th>6 </th>\n",
        "      <td>                 redhat</td>\n",
        "      <td> 35.775481</td>\n",
        "      <td>-78.637703</td>\n",
        "      <td>                bronto</td>\n",
        "      <td> 35.993347</td>\n",
        "      <td>-78.905715</td>\n",
        "      <td> 9:00</td>\n",
        "      <td> 21.238200</td>\n",
        "      <td> 3</td>\n",
        "    </tr>\n",
        "    <tr>\n",
        "      <th>7 </th>\n",
        "      <td>               transloc</td>\n",
        "      <td> 35.875441</td>\n",
        "      <td>-78.840450</td>\n",
        "      <td>                redhat</td>\n",
        "      <td> 35.775551</td>\n",
        "      <td>-78.637800</td>\n",
        "      <td> 9:00</td>\n",
        "      <td> 13.276723</td>\n",
        "      <td> 1</td>\n",
        "    </tr>\n",
        "    <tr>\n",
        "      <th>8 </th>\n",
        "      <td>             epic games</td>\n",
        "      <td> 35.756216</td>\n",
        "      <td>-78.733629</td>\n",
        "      <td>               motorco</td>\n",
        "      <td> 36.003772</td>\n",
        "      <td>-78.900395</td>\n",
        "      <td> 9:00</td>\n",
        "      <td> 19.472923</td>\n",
        "      <td> 0</td>\n",
        "    </tr>\n",
        "    <tr>\n",
        "      <th>9 </th>\n",
        "      <td>                 citrix</td>\n",
        "      <td> 35.779285</td>\n",
        "      <td>-78.646504</td>\n",
        "      <td>          reverbnation</td>\n",
        "      <td> 36.000314</td>\n",
        "      <td>-78.908062</td>\n",
        "      <td> 9:00</td>\n",
        "      <td> 21.141298</td>\n",
        "      <td> 3</td>\n",
        "    </tr>\n",
        "    <tr>\n",
        "      <th>10</th>\n",
        "      <td>          crabtree mall</td>\n",
        "      <td> 35.840566</td>\n",
        "      <td>-78.679817</td>\n",
        "      <td>       duke university</td>\n",
        "      <td> 36.001578</td>\n",
        "      <td>-78.938197</td>\n",
        "      <td> 9:00</td>\n",
        "      <td> 18.229420</td>\n",
        "      <td> 3</td>\n",
        "    </tr>\n",
        "  </tbody>\n",
        "</table>\n",
        "</div>"
       ],
       "metadata": {},
       "output_type": "pyout",
       "prompt_number": 326,
       "text": [
        "                     start  start_lat  start_long                   dest  \\\n",
        "id                                                                         \n",
        "0                     home  35.788247  -78.629310              iron yard   \n",
        "1                 seaboard  35.789972  -78.640784                 monuts   \n",
        "2                caraleigh  35.760419  -78.652847            south point   \n",
        "3                    joule  35.777670  -78.637916        counter culture   \n",
        "4                  oakwood  35.789172  -78.621798           durham bulls   \n",
        "5   raleigh farmers market  35.763127  -78.664087  durham farmers market   \n",
        "6                   redhat  35.775481  -78.637703                 bronto   \n",
        "7                 transloc  35.875441  -78.840450                 redhat   \n",
        "8               epic games  35.756216  -78.733629                motorco   \n",
        "9                   citrix  35.779285  -78.646504           reverbnation   \n",
        "10           crabtree mall  35.840566  -78.679817        duke university   \n",
        "\n",
        "     dest_lat  dest_long dest_time   distance  ride  \n",
        "id                                                   \n",
        "0   35.993301 -78.904659      9:00  20.920506     3  \n",
        "1   36.014119 -78.921644      9:00  22.051171     3  \n",
        "2   35.906823 -78.941451      9:00  19.056898     2  \n",
        "3   35.906780 -78.889374      9:00  16.659810     2  \n",
        "4   35.991802 -78.904032      9:00  21.094305     3  \n",
        "5   36.000573 -78.901976      9:00  21.115963     3  \n",
        "6   35.993347 -78.905715      9:00  21.238200     3  \n",
        "7   35.775551 -78.637800      9:00  13.276723     1  \n",
        "8   36.003772 -78.900395      9:00  19.472923     0  \n",
        "9   36.000314 -78.908062      9:00  21.141298     3  \n",
        "10  36.001578 -78.938197      9:00  18.229420     3  "
       ]
      }
     ],
     "prompt_number": 326
    },
    {
     "cell_type": "code",
     "collapsed": false,
     "input": [
      "locations = pd.concat([dummy[['start_lat','start_long']],dummy[['dest_lat','dest_long']]])"
     ],
     "language": "python",
     "metadata": {},
     "outputs": [],
     "prompt_number": 341
    },
    {
     "cell_type": "code",
     "collapsed": true,
     "input": [
      "locations = pd.DataFrame(lats,columns=['lats'])\n",
      "locations['lats'] = lats"
     ],
     "language": "python",
     "metadata": {},
     "outputs": [],
     "prompt_number": 342
    },
    {
     "cell_type": "code",
     "collapsed": false,
     "input": [
      "locations['longs'] = longs"
     ],
     "language": "python",
     "metadata": {},
     "outputs": [],
     "prompt_number": 343
    },
    {
     "cell_type": "code",
     "collapsed": true,
     "input": [
      "locations['carpool'] = [0,0,2,2,0,0,0,1,3,0,0,0,0,2,2,0,0,0,1,3,0,0]"
     ],
     "language": "python",
     "metadata": {},
     "outputs": [],
     "prompt_number": 344
    },
    {
     "cell_type": "code",
     "collapsed": true,
     "input": [
      "locations.head()"
     ],
     "language": "python",
     "metadata": {},
     "outputs": [
      {
       "html": [
        "<div style=\"max-height:1000px;max-width:1500px;overflow:auto;\">\n",
        "<table border=\"1\" class=\"dataframe\">\n",
        "  <thead>\n",
        "    <tr style=\"text-align: right;\">\n",
        "      <th></th>\n",
        "      <th>lats</th>\n",
        "      <th>longs</th>\n",
        "      <th>carpool</th>\n",
        "    </tr>\n",
        "  </thead>\n",
        "  <tbody>\n",
        "    <tr>\n",
        "      <th>0</th>\n",
        "      <td> 35.788247</td>\n",
        "      <td>-78.629310</td>\n",
        "      <td> 0</td>\n",
        "    </tr>\n",
        "    <tr>\n",
        "      <th>1</th>\n",
        "      <td> 35.789972</td>\n",
        "      <td>-78.640784</td>\n",
        "      <td> 0</td>\n",
        "    </tr>\n",
        "    <tr>\n",
        "      <th>2</th>\n",
        "      <td> 35.760419</td>\n",
        "      <td>-78.652847</td>\n",
        "      <td> 2</td>\n",
        "    </tr>\n",
        "    <tr>\n",
        "      <th>3</th>\n",
        "      <td> 35.777670</td>\n",
        "      <td>-78.637916</td>\n",
        "      <td> 2</td>\n",
        "    </tr>\n",
        "    <tr>\n",
        "      <th>4</th>\n",
        "      <td> 35.789172</td>\n",
        "      <td>-78.621798</td>\n",
        "      <td> 0</td>\n",
        "    </tr>\n",
        "  </tbody>\n",
        "</table>\n",
        "</div>"
       ],
       "metadata": {},
       "output_type": "pyout",
       "prompt_number": 346,
       "text": [
        "        lats      longs  carpool\n",
        "0  35.788247 -78.629310        0\n",
        "1  35.789972 -78.640784        0\n",
        "2  35.760419 -78.652847        2\n",
        "3  35.777670 -78.637916        2\n",
        "4  35.789172 -78.621798        0"
       ]
      }
     ],
     "prompt_number": 346
    },
    {
     "cell_type": "code",
     "collapsed": false,
     "input": [
      "def colormap(x):\n",
      "    if x == 0:\n",
      "        return 'red'\n",
      "    elif x == 1:\n",
      "        return 'green'\n",
      "    elif x==2:\n",
      "        return 'blue'\n",
      "    else:\n",
      "        return 'orange'\n",
      "locations['color'] = locations['carpool'].map(colormap)"
     ],
     "language": "python",
     "metadata": {},
     "outputs": [],
     "prompt_number": 352
    },
    {
     "cell_type": "code",
     "collapsed": false,
     "input": [
      "plt.scatter(locations['lats'],locations['longs'], color=locations.color)"
     ],
     "language": "python",
     "metadata": {},
     "outputs": [
      {
       "metadata": {},
       "output_type": "pyout",
       "prompt_number": 353,
       "text": [
        "<matplotlib.collections.PathCollection at 0x1129bc5c0>"
       ]
      },
      {
       "metadata": {},
       "output_type": "display_data",
       "png": "[encoded data removed]",
       "text": [
        "<matplotlib.figure.Figure at 0x11283f978>"
       ]
      }
     ],
     "prompt_number": 353
    },
    {
     "cell_type": "code",
     "collapsed": false,
     "input": [],
     "language": "python",
     "metadata": {},
     "outputs": []
    }
   ],
   "metadata": {}
  }
 ]
}